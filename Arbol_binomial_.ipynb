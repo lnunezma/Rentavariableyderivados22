{
  "nbformat": 4,
  "nbformat_minor": 0,
  "metadata": {
    "colab": {
      "name": "Arbol binomial.ipynb",
      "provenance": [],
      "authorship_tag": "ABX9TyP+5nFVsrbx7YkYeFW9Z4y3",
      "include_colab_link": true
    },
    "kernelspec": {
      "name": "python3",
      "display_name": "Python 3"
    },
    "language_info": {
      "name": "python"
    }
  },
  "cells": [
    {
      "cell_type": "markdown",
      "metadata": {
        "id": "view-in-github",
        "colab_type": "text"
      },
      "source": [
        "<a href=\"https://colab.research.google.com/github/lnunezma/Rentavariableyderivados22/blob/main/Arbol_binomial_.ipynb\" target=\"_parent\"><img src=\"https://colab.research.google.com/assets/colab-badge.svg\" alt=\"Open In Colab\"/></a>"
      ]
    },
    {
      "cell_type": "code",
      "execution_count": null,
      "metadata": {
        "colab": {
          "base_uri": "https://localhost:8080/"
        },
        "id": "ibBc7rqc2cwT",
        "outputId": "b8a92efc-7564-4ee7-af30-ebd3cb4686b9"
      },
      "outputs": [
        {
          "output_type": "stream",
          "name": "stdout",
          "text": [
            "Tipo de opción: 1 Call, 2 Put. Indique 1 o 2. \n",
            "Tipo de la opción: CALL\n",
            "Precio Spot del activo subyacente: \n",
            "Precio spot= 50.0\n",
            "Precio de ejercicio: Strik: \n",
            "strik= 50.0\n",
            "Duración en años: \n",
            "años= 3.0\n",
            "Volatilidad anual, por ejemplo 0.2: \n",
            "Volatilidad= 15.0 %\n",
            "Número de pasos del arbol binomial, por ejemplo 4: \n",
            "Número de pasos del arbol binomial= 5\n",
            "Rentabilidad libre de riesgo. Por ejemplo para un 5% poner 0.05: \n",
            "Tipo de interés= 5.0 %\n",
            "Tanto instantáneo= 4.879016416943205 %\n",
            "u= 1.1232087004496374 p= 0.5985357762751214 deltaT= 0.6\n",
            "Prima estimada= 9.093051436810937\n"
          ]
        }
      ],
      "source": [
        "\n",
        "import numpy as np\n",
        "from scipy.stats import binom\n",
        "\n",
        "tipo=input('Tipo de opción: 1 Call, 2 Put. Indique 1 o 2. ') or '1'\n",
        "if tipo=='1':\n",
        "  print('Tipo de la opción: CALL')\n",
        "if tipo=='2':\n",
        "  print('Tipo de la opción: PUT')\n",
        "\n",
        "spot=float(input('Precio Spot del activo subyacente: ') or 50)\n",
        "print('Precio spot=',spot)\n",
        "\n",
        "strik=float(input('Precio de ejercicio: Strik: ') or 50)\n",
        "print('strik=',strik)\n",
        "\n",
        "anyos=float(input('Duración en años: ') or 3)\n",
        "print('años=',anyos)\n",
        "\n",
        "volatilidad=float(input('Volatilidad anual, por ejemplo 0.2: ') or 0.15)\n",
        "print('Volatilidad=',volatilidad*100,'%')\n",
        "\n",
        "n=int(input('Número de pasos del arbol binomial, por ejemplo 4: ') or 5)\n",
        "print('Número de pasos del arbol binomial=',n)\n",
        "\n",
        "tInt=float(input('Rentabilidad libre de riesgo. Por ejemplo para un 5% poner 0.05: ') or 0.05)\n",
        "print('Tipo de interés=',tInt*100,'%')\n",
        "r=np.log(1+tInt)  \n",
        "print('Tanto instantáneo=',r*100,'%')\n",
        "\n",
        "\n",
        "#Calculo de r,u,d,p,deltaT\n",
        "deltaT=anyos/n          \n",
        "u=np.exp(volatilidad*np.sqrt(deltaT))   \n",
        "d=1/u\n",
        "p=(np.exp(r*deltaT)-d)/(u-d)\n",
        "\n",
        "#Precios esperados del activo subyacente a fecha de vencimiento\n",
        "Sn=[0]*(n+1) \n",
        "print('u=',u,'p=',p,'deltaT=',deltaT)\n",
        "for i in range(n+1):\n",
        "  Sn[i]=spot*u**(n-i)*d**i\n",
        "  #print('Sn(',i,')=',Sn[i])\n",
        "\n",
        "#calculamos el payoff \n",
        "payoff=[0]*(n+1) \n",
        "for i in range(n+1):\n",
        "  if tipo=='1':\n",
        "    payoff[i]=max(0,Sn[i]-strik)\n",
        "  if tipo=='2':\n",
        "    payoff[i]=max(0,strik-Sn[i])\n",
        "\n",
        "#cálculo de la prima estimada\n",
        "prima=0\n",
        "for i in range(n+1):\n",
        "  prima+=payoff[i]*binom.pmf(n-i, n, p)\n",
        "prima=prima*np.exp(-r*anyos) \n",
        "print('Prima estimada=',prima)\n",
        "\n"
      ]
    }
  ]
}