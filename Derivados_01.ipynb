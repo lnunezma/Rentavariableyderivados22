{
  "nbformat": 4,
  "nbformat_minor": 0,
  "metadata": {
    "colab": {
      "name": "Derivados_01.ipynb",
      "provenance": [],
      "authorship_tag": "ABX9TyNjskk96XyZUAcIgCeDLjNd",
      "include_colab_link": true
    },
    "kernelspec": {
      "name": "python3",
      "display_name": "Python 3"
    },
    "language_info": {
      "name": "python"
    }
  },
  "cells": [
    {
      "cell_type": "markdown",
      "metadata": {
        "id": "view-in-github",
        "colab_type": "text"
      },
      "source": [
        "<a href=\"https://colab.research.google.com/github/lnunezma/Rentavariableyderivados22/blob/main/Derivados_01.ipynb\" target=\"_parent\"><img src=\"https://colab.research.google.com/assets/colab-badge.svg\" alt=\"Open In Colab\"/></a>"
      ]
    },
    {
      "cell_type": "code",
      "execution_count": null,
      "metadata": {
        "id": "CsUZ7cphVahW"
      },
      "outputs": [],
      "source": [
        ""
      ]
    },
    {
      "cell_type": "markdown",
      "source": [
        "# Python en finanzas \n",
        "## Iniciando Python\n",
        "Lo habitual es hacer un \"Hola Mundo\" cuando se comienza a programar en un lenguaje"
      ],
      "metadata": {
        "id": "DRXj_1hwV059"
      }
    },
    {
      "cell_type": "code",
      "source": [
        "print(\"Hola Mundo\")"
      ],
      "metadata": {
        "colab": {
          "base_uri": "https://localhost:8080/"
        },
        "id": "OMnO2J7NXAmd",
        "outputId": "79fb16cf-34f4-4ea9-c473-4f34ac07e29d"
      },
      "execution_count": 2,
      "outputs": [
        {
          "output_type": "stream",
          "name": "stdout",
          "text": [
            "Hola Mundo\n"
          ]
        }
      ]
    },
    {
      "cell_type": "markdown",
      "source": [
        "## Variables\n"
      ],
      "metadata": {
        "id": "X4JMcb9oXvEQ"
      }
    },
    {
      "cell_type": "code",
      "source": [
        "x=5\n",
        "print(x)\n",
        "print(type(x))"
      ],
      "metadata": {
        "colab": {
          "base_uri": "https://localhost:8080/"
        },
        "id": "ZxRwyWvFXzY0",
        "outputId": "a017dd3b-57b6-4003-afaa-8f86d84c7315"
      },
      "execution_count": 3,
      "outputs": [
        {
          "output_type": "stream",
          "name": "stdout",
          "text": [
            "5\n",
            "<class 'int'>\n"
          ]
        }
      ]
    }
  ]
}