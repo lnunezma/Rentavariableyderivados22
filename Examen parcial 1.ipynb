{
  "nbformat": 4,
  "nbformat_minor": 0,
  "metadata": {
    "colab": {
      "name": "Untitled4.ipynb",
      "provenance": [],
      "authorship_tag": "ABX9TyO1Pstg/ajAz+Er2xY1Su/F",
      "include_colab_link": true
    },
    "kernelspec": {
      "name": "python3",
      "display_name": "Python 3"
    },
    "language_info": {
      "name": "python"
    }
  },
  "cells": [
    {
      "cell_type": "markdown",
      "metadata": {
        "id": "view-in-github",
        "colab_type": "text"
      },
      "source": [
        "<a href=\"https://colab.research.google.com/github/lnunezma/Rentavariableyderivados22/blob/main/Examen%20parcial%201.ipynb\" target=\"_parent\"><img src=\"https://colab.research.google.com/assets/colab-badge.svg\" alt=\"Open In Colab\"/></a>"
      ]
    },
    {
      "cell_type": "code",
      "execution_count": 6,
      "metadata": {
        "colab": {
          "base_uri": "https://localhost:8080/",
          "height": 135
        },
        "id": "kI-WCpH5WUvG",
        "outputId": "bf0a251b-9b52-4d98-e397-683f6eaee57c"
      },
      "outputs": [
        {
          "output_type": "error",
          "ename": "SyntaxError",
          "evalue": "ignored",
          "traceback": [
            "\u001b[0;36m  File \u001b[0;32m\"<ipython-input-6-1617b5f21b27>\"\u001b[0;36m, line \u001b[0;32m1\u001b[0m\n\u001b[0;31m    pip install numpy-financial\u001b[0m\n\u001b[0m              ^\u001b[0m\n\u001b[0;31mSyntaxError\u001b[0m\u001b[0;31m:\u001b[0m invalid syntax\n"
          ]
        }
      ],
      "source": [
        "pip install numpy-financial\n",
        "\n",
        "import numpy_financial as npf\n",
        "import numpy as np\n",
        "\n",
        "# DATOS   \n",
        "bonoA = np.array([-935, 1000, 0])\n",
        "bonoB = np.array([-98, 7, 107])  # ver los flujos de caja del archivo Excel\n",
        "\n",
        "# Bono C\n",
        "bonoC = np.array([0,0,0])        # inicializamos el ndarray\n",
        "bonoC = bonoA[0]*bonoB - bonoB[0]*bonoA\n",
        "print(f\"Bono C: {bonoC}\")\n",
        "\n",
        "# Forward r12\n",
        "r12 = npf.irr(bonoC)\n",
        "print(f\"MÉTODO 1: el forward r12 es {r12:.4%}\")\n"
      ]
    },
    {
      "cell_type": "code",
      "source": [
        "pip install numpy-financial"
      ],
      "metadata": {
        "colab": {
          "base_uri": "https://localhost:8080/"
        },
        "id": "h17CKt7EaEMm",
        "outputId": "5c2cd05f-6235-45c6-e598-a300f65944b8"
      },
      "execution_count": 7,
      "outputs": [
        {
          "output_type": "stream",
          "name": "stdout",
          "text": [
            "Collecting numpy-financial\n",
            "  Downloading numpy_financial-1.0.0-py3-none-any.whl (14 kB)\n",
            "Requirement already satisfied: numpy>=1.15 in /usr/local/lib/python3.7/dist-packages (from numpy-financial) (1.21.5)\n",
            "Installing collected packages: numpy-financial\n",
            "Successfully installed numpy-financial-1.0.0\n"
          ]
        }
      ]
    },
    {
      "cell_type": "code",
      "source": [
        "\n",
        "\n",
        "import numpy_financial as npf\n",
        "import numpy as np\n",
        "\n",
        "# DATOS   \n",
        "bonoA = np.array([-935, 1000, 0])\n",
        "bonoB = np.array([-98, 7, 107])  # ver los flujos de caja del archivo Excel\n",
        "\n",
        "# Bono C\n",
        "bonoC = np.array([0,0,0])        # inicializamos el ndarray\n",
        "bonoC = bonoA[0]*bonoB - bonoB[0]*bonoA\n",
        "print(f\"Bono C: {bonoC}\")\n",
        "\n",
        "# Forward r12\n",
        "r12 = npf.irr(bonoC)\n",
        "print(f\"MÉTODO 1: el forward r12 es {r12:.4%}\")"
      ],
      "metadata": {
        "colab": {
          "base_uri": "https://localhost:8080/"
        },
        "id": "mhV8vau-aJbD",
        "outputId": "97303cb0-bcd7-4882-dca3-4a179b840019"
      },
      "execution_count": 8,
      "outputs": [
        {
          "output_type": "stream",
          "name": "stdout",
          "text": [
            "Bono C: [      0   91455 -100045]\n",
            "MÉTODO 1: el forward r12 es 9.3926%\n"
          ]
        }
      ]
    },
    {
      "cell_type": "code",
      "source": [
        "import numpy_financial as npf\n",
        "import numpy as np\n",
        "\n",
        "# DATOS   \n",
        "bonoA = np.array([-100, 110, 0, 0])\n",
        "bonoB = np.array([-500, 0, 500*1.11**2, 0])  # la TIR del bono B es del 9%\n",
        "bonoC = np.array([-1000/1.12**3, 0, 0, 1000])\n",
        "\n",
        "print(f\"Bono A: {bonoA}\")\n",
        "print(f\"Bono B: {bonoB}\")\n",
        "print(f\"Bono C: {bonoC}\")\n",
        "\n",
        "##############       MÉTODO 1       ##############\n",
        "\n",
        "bonoD = np.ndarray([0,0,0,0])\n",
        "bonoD = -bonoC[0] * bonoB + bonoB[0] * bonoC\n",
        "print(f\"Bono D: {bonoD}\")\n",
        "tirD = npf.irr(bonoD)\n",
        "print(f\"Método 1: el forward r23 es {tirD:.5%}\")\n",
        "\n",
        "##############       MÉTODO 2       ##############\n",
        "r23 = (1+0.08)**3 / (1+0.09)**2 -1\n",
        "print(f\"Método 2: el forward r23 es {r23:.5%}\")"
      ],
      "metadata": {
        "colab": {
          "base_uri": "https://localhost:8080/"
        },
        "id": "VOua8UBMY_2k",
        "outputId": "3da524fb-8e4f-4c1c-af1d-78e12e194c4e"
      },
      "execution_count": 11,
      "outputs": [
        {
          "output_type": "stream",
          "name": "stdout",
          "text": [
            "Bono A: [-100  110    0    0]\n",
            "Bono B: [-500.      0.    616.05    0.  ]\n",
            "Bono C: [-711.78024781    0.            0.         1000.        ]\n",
            "Bono D: [      0.               0.          438492.22166545 -500000.        ]\n",
            "Método 1: el forward r23 es 14.02711%\n",
            "Método 2: el forward r23 es 6.02744%\n"
          ]
        }
      ]
    }
  ]
}