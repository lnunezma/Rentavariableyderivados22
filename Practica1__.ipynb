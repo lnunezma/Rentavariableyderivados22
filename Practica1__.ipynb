{
  "nbformat": 4,
  "nbformat_minor": 0,
  "metadata": {
    "colab": {
      "name": "derivados01.ipynb",
      "provenance": [],
      "include_colab_link": true
    },
    "kernelspec": {
      "name": "python3",
      "display_name": "Python 3"
    },
    "language_info": {
      "name": "python"
    }
  },
  "cells": [
    {
      "cell_type": "markdown",
      "metadata": {
        "id": "view-in-github",
        "colab_type": "text"
      },
      "source": [
        "<a href=\"https://colab.research.google.com/github/lnunezma/Rentavariableyderivados22/blob/main/Practica1__.ipynb\" target=\"_parent\"><img src=\"https://colab.research.google.com/assets/colab-badge.svg\" alt=\"Open In Colab\"/></a>"
      ]
    },
    {
      "cell_type": "markdown",
      "source": [
        "# Programación en Python"
      ],
      "metadata": {
        "id": "-V3kb15V02sg"
      }
    },
    {
      "cell_type": "code",
      "execution_count": null,
      "metadata": {
        "colab": {
          "base_uri": "https://localhost:8080/"
        },
        "id": "fXjIz4tN0rdU",
        "outputId": "b6efac27-869c-43c6-b042-943a6caca63d"
      },
      "outputs": [
        {
          "output_type": "stream",
          "name": "stdout",
          "text": [
            "Bienvenidos al mundo de las Finanzas\n"
          ]
        }
      ],
      "source": [
        "print(\"Bienvenidos al mundo de las Finanzas\")"
      ]
    },
    {
      "cell_type": "markdown",
      "source": [
        "**PRACTICA 1 - BONOS SINTÉTICOS Y FORWARD**\n",
        "\n",
        "Calcular el precio y la TIR del bono X conocidos los bonos A, B, C y E que cotizan en un mercado de renta fija. Realice por dos métodos al menos.\n",
        "\n",
        "\n",
        "\n",
        "![image.png](data:image/png;base64,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)"
      ],
      "metadata": {
        "id": "2XO4D6iv7eB7"
      }
    },
    {
      "cell_type": "code",
      "source": [
        "pip install numpy-financial"
      ],
      "metadata": {
        "colab": {
          "base_uri": "https://localhost:8080/"
        },
        "id": "AQENw64P9oV5",
        "outputId": "91a5c416-b02a-47b7-93d9-85926c2aa619"
      },
      "execution_count": null,
      "outputs": [
        {
          "output_type": "stream",
          "name": "stdout",
          "text": [
            "Collecting numpy-financial\n",
            "  Downloading numpy_financial-1.0.0-py3-none-any.whl (14 kB)\n",
            "Requirement already satisfied: numpy>=1.15 in /usr/local/lib/python3.7/dist-packages (from numpy-financial) (1.21.5)\n",
            "Installing collected packages: numpy-financial\n",
            "Successfully installed numpy-financial-1.0.0\n"
          ]
        }
      ]
    },
    {
      "cell_type": "code",
      "source": [
        "import numpy_financial as npf\n",
        "\n",
        "cash_flows = [-600_000, 100_000, 150_000, 200_000, 250_000, 300_000]\n",
        "discount_rate = 0.1\n",
        "\n",
        "van = npf.npv(discount_rate, cash_flows)\n",
        "print(f\"Net Present Value ({discount_rate:.2%}) = {van:,.2f} €\")"
      ],
      "metadata": {
        "colab": {
          "base_uri": "https://localhost:8080/"
        },
        "id": "7Z0MGAhe_npY",
        "outputId": "f842edde-0f61-401f-e85e-6d62f39cb2b3"
      },
      "execution_count": null,
      "outputs": [
        {
          "output_type": "stream",
          "name": "stdout",
          "text": [
            "Net Present Value (10.00%) = 122,168.75 €\n"
          ]
        }
      ]
    },
    {
      "cell_type": "code",
      "source": [
        "x=10\n",
        "print(\"el valor de x es\", x)\n",
        "print(f\"el valor de x es [x] y su cuadrado es {x**2}\")"
      ],
      "metadata": {
        "id": "J9aq7YlThn31",
        "outputId": "7c90eaa7-8d35-4624-fd1b-231459d5b77e",
        "colab": {
          "base_uri": "https://localhost:8080/"
        }
      },
      "execution_count": null,
      "outputs": [
        {
          "output_type": "stream",
          "name": "stdout",
          "text": [
            "el valor de x es 10\n",
            "el valor de x es [x] y su cuadrado es 100\n"
          ]
        }
      ]
    },
    {
      "cell_type": "code",
      "source": [
        "tir = npf.irr(cash_flows)\n",
        "print(f\"Internal rate of return: {tir:.2%}\")"
      ],
      "metadata": {
        "colab": {
          "base_uri": "https://localhost:8080/"
        },
        "id": "J3Q-2rYw9c7i",
        "outputId": "aabee2f1-8151-4576-a3e1-c4e9242ff3e0"
      },
      "execution_count": null,
      "outputs": [
        {
          "output_type": "stream",
          "name": "stdout",
          "text": [
            "Internal rate of return: 16.40%\n"
          ]
        }
      ]
    },
    {
      "cell_type": "code",
      "source": [
        "initialInvestment = cash_flows[0]       # guardamos en una variable el desembolso inicial\n",
        "cash_flows[0] = 0                       # en la lista de cash flows hacemos cero el desembolso inicial\n",
        "van = initialInvestment + npf.npv(discount_rate, cash_flows)\n",
        "print(van)                              # obtenemos el van esperado, ahora sin formato"
      ],
      "metadata": {
        "colab": {
          "base_uri": "https://localhost:8080/"
        },
        "id": "3TUW8OI9MxDp",
        "outputId": "67ecb766-d870-40b0-ff5e-eef3d57fcda5"
      },
      "execution_count": null,
      "outputs": [
        {
          "output_type": "stream",
          "name": "stdout",
          "text": [
            "122168.75399718084\n"
          ]
        }
      ]
    },
    {
      "cell_type": "markdown",
      "source": [
        "### Programando el VAN\n",
        "* Valor Actual Neto\n",
        "* $A$ = Desembolso inicial\n",
        "* $Q_t$ = Flujos de caja desde $t=1$ hasta $t=n$\n",
        "* $k$ = tasa de descuento\n",
        "\n",
        "$$ \\mathrm{VAN} = -A + \\sum_{t=1}^n{\\frac{Q_t}{(1+k)^t}} $$"
      ],
      "metadata": {
        "id": "iQujYc0kWK9I"
      }
    },
    {
      "cell_type": "code",
      "source": [
        "def van(tasa, flujos): \n",
        "    total = 0 #incializamos la variable total (definición)\n",
        "    for i, flujo in enumerate(flujos):  \n",
        "        total += flujo / (1 + tasa)**i\n",
        "    return total\n",
        "\n",
        "tasa = 0.1\n",
        "flujos = [-600_000, 100_000, 150_000, 200_000, 250_000, 300_000]\n",
        "print(f\"VAN = {van(tasa, flujos):,.2f} €\")          #para invocar una formula con dos parametros, se meten dentro de parentesis separados por una coma."
      ],
      "metadata": {
        "colab": {
          "base_uri": "https://localhost:8080/"
        },
        "id": "97qYQEUjPInj",
        "outputId": "f291d619-1470-405e-98e3-d9db01197bf4"
      },
      "execution_count": null,
      "outputs": [
        {
          "output_type": "stream",
          "name": "stdout",
          "text": [
            "VAN = 122,168.75 €\n"
          ]
        }
      ]
    },
    {
      "cell_type": "code",
      "source": [
        "#Ejemplo de función de Python\n",
        "def saluda():\n",
        "    print(\"Buenas tardes\")\n",
        "\n",
        "saluda()\n",
        "\n",
        "def hola(nombre):\n",
        "        print(\"Hola\", nombre, \"Que tal?\")\n",
        "\n",
        "hola (\"Ana\")\n",
        "\n",
        "\n",
        "\n"
      ],
      "metadata": {
        "id": "G0RXg65byJ6e",
        "outputId": "e15186b3-bfa6-4d31-a0ea-a4460859debc",
        "colab": {
          "base_uri": "https://localhost:8080/"
        }
      },
      "execution_count": null,
      "outputs": [
        {
          "output_type": "stream",
          "name": "stdout",
          "text": [
            "Buenas tardes\n",
            "Hola Ana Que tal?\n"
          ]
        }
      ]
    },
    {
      "cell_type": "code",
      "source": [
        "#función con return\n",
        "\n",
        "x=5\n",
        "\n",
        "def doblar(n):\n",
        "    return 2*n\n",
        "\n",
        "print (f\"el doble de {x} es {doblar(x)}\")"
      ],
      "metadata": {
        "id": "gH4d5jie2wFN",
        "outputId": "2be6e09a-036d-4ade-c158-44c61ba88c43",
        "colab": {
          "base_uri": "https://localhost:8080/"
        }
      },
      "execution_count": null,
      "outputs": [
        {
          "output_type": "stream",
          "name": "stdout",
          "text": [
            "el doble de 5 es 10\n"
          ]
        }
      ]
    },
    {
      "cell_type": "code",
      "source": [
        "#el for es un bucle\n",
        "for i in range(1,6):  #aqui le estamos especificando que empieza en el 1, y el final es n-1\n",
        "    print(i)\n"
      ],
      "metadata": {
        "id": "R1JsnBXC7kk7",
        "outputId": "c2d02d30-9f87-4227-a709-e4cb8776be7f",
        "colab": {
          "base_uri": "https://localhost:8080/"
        }
      },
      "execution_count": null,
      "outputs": [
        {
          "output_type": "stream",
          "name": "stdout",
          "text": [
            "1\n",
            "2\n",
            "3\n",
            "4\n",
            "5\n"
          ]
        }
      ]
    },
    {
      "cell_type": "code",
      "source": [
        "lista = [\"Madrid\", \"Londres\",\"Paris\", \"Roma\"]\n",
        "for ciudad in lista:       #método 1\n",
        "    print(ciudad)\n",
        "\n",
        "print()\n",
        "\n",
        "for i in range(len(lista)):      #método 2 (la longitud de la lista es 4, como el ultimo no entra, de 0-3)\n",
        "    print(i, lista[i])"
      ],
      "metadata": {
        "id": "N-Gc_I5V9dHJ",
        "outputId": "07bd0830-98e8-4c8b-b521-0f830b190078",
        "colab": {
          "base_uri": "https://localhost:8080/"
        }
      },
      "execution_count": null,
      "outputs": [
        {
          "output_type": "stream",
          "name": "stdout",
          "text": [
            "Madrid\n",
            "Londres\n",
            "Paris\n",
            "Roma\n",
            "\n",
            "0 Madrid\n",
            "1 Londres\n",
            "2 Paris\n",
            "3 Roma\n"
          ]
        }
      ]
    },
    {
      "cell_type": "code",
      "source": [
        "#Explicación de Acumular\n",
        "\n",
        "total = 0\n",
        "for i in range(1,101):          #Acumulando los números o sumar los numero del 1 al 100\n",
        "    #total=total + i\n",
        "    total += i                  #esta linea y la anterior son iguales\n",
        "\n",
        "print(total)\n"
      ],
      "metadata": {
        "id": "5YsbGXZE_Sqw",
        "outputId": "1ea1e5f8-a1f2-4793-890f-52fa235fe0a1",
        "colab": {
          "base_uri": "https://localhost:8080/"
        }
      },
      "execution_count": null,
      "outputs": [
        {
          "output_type": "stream",
          "name": "stdout",
          "text": [
            "5050\n"
          ]
        }
      ]
    },
    {
      "cell_type": "markdown",
      "source": [
        "## Función Pago (pmt)\n",
        "* npf.pmt(rate, nper, pv, fv, when = ‘end’)\n",
        "* fv es optativo, por defecto es 0\n",
        "* when es optativo, por defecto es 'end', pagos a final de periodo, pospagable\n",
        "* Calcular el pago mensual periódico necesario para amortizar un préstamo de 350.000 €, a 20 años, al 6% TIN (Tipo de Interés Nominal)\n",
        "* con Excel: =PAGO(6%/12;20*12;-350000)"
      ],
      "metadata": {
        "id": "LD16NjKFRYL9"
      }
    },
    {
      "cell_type": "code",
      "source": [
        "import numpy_financial as npf\n",
        "\n",
        "pago = npf.pmt(0.06/12, 20 * 12, 350_000)\n",
        "\n",
        "# Here fv = 0 ; Also Default value of fv = 0\n",
        "print(f\"Pago mensual: {-pago:,.2f} €\" )\n"
      ],
      "metadata": {
        "colab": {
          "base_uri": "https://localhost:8080/"
        },
        "id": "rnlAao1HP2IN",
        "outputId": "6a7b958e-3405-4735-c459-d03c1681a7ac"
      },
      "execution_count": null,
      "outputs": [
        {
          "output_type": "stream",
          "name": "stdout",
          "text": [
            "Pago mensual: 2,507.51 €\n"
          ]
        }
      ]
    }
  ]
}