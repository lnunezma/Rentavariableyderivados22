{
  "nbformat": 4,
  "nbformat_minor": 0,
  "metadata": {
    "colab": {
      "name": "Práctica4.ipynb",
      "provenance": [],
      "authorship_tag": "ABX9TyPJpcLxiBQHU2fU/f3Ha6WN",
      "include_colab_link": true
    },
    "kernelspec": {
      "name": "python3",
      "display_name": "Python 3"
    },
    "language_info": {
      "name": "python"
    }
  },
  "cells": [
    {
      "cell_type": "markdown",
      "metadata": {
        "id": "view-in-github",
        "colab_type": "text"
      },
      "source": [
        "<a href=\"https://colab.research.google.com/github/lnunezma/Rentavariableyderivados22/blob/main/Pr%C3%A1ctica4.ipynb\" target=\"_parent\"><img src=\"https://colab.research.google.com/assets/colab-badge.svg\" alt=\"Open In Colab\"/></a>"
      ]
    },
    {
      "cell_type": "markdown",
      "source": [
        "**Práctica 4 -  Estrategias con opciones**"
      ],
      "metadata": {
        "id": "LNcGmUByHjQt"
      }
    },
    {
      "cell_type": "code",
      "source": [
        "import numpy as np\n",
        "\n",
        "#Vamos a definir el tipo de estrategia\n",
        "\n",
        "#Variables\n",
        "#Precios de ejercicio\n",
        "Precio_A = 90\n",
        "Precio_B = 100\n",
        "Precio_C = 110\n",
        "Precio_D = 120\n",
        "\n",
        "#Primas\n",
        "Prima_A = 8\n",
        "Prima_B = 12\n",
        "Prima_C = 10\n",
        "Prima_D = 5\n",
        "\n",
        "#Cantidades de cada una de las opciones\n",
        "Num_A = 1\n",
        "Num_B = 1\n",
        "Num_C = 1\n",
        "Num_D = 1\n",
        "\n"
      ],
      "metadata": {
        "id": "ENcmAnNQHqqY"
      },
      "execution_count": null,
      "outputs": []
    }
  ]
}