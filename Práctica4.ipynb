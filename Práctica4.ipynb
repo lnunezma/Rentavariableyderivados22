{
  "nbformat": 4,
  "nbformat_minor": 0,
  "metadata": {
    "colab": {
      "name": "Práctica4.ipynb",
      "provenance": [],
      "authorship_tag": "ABX9TyOxP7G+HGw4bQE8z/03Bkcs",
      "include_colab_link": true
    },
    "kernelspec": {
      "name": "python3",
      "display_name": "Python 3"
    },
    "language_info": {
      "name": "python"
    }
  },
  "cells": [
    {
      "cell_type": "markdown",
      "metadata": {
        "id": "view-in-github",
        "colab_type": "text"
      },
      "source": [
        "<a href=\"https://colab.research.google.com/github/lnunezma/Rentavariableyderivados22/blob/main/Pr%C3%A1ctica4.ipynb\" target=\"_parent\"><img src=\"https://colab.research.google.com/assets/colab-badge.svg\" alt=\"Open In Colab\"/></a>"
      ]
    },
    {
      "cell_type": "markdown",
      "source": [
        "**Práctica 4 -  Estrategias con opciones**"
      ],
      "metadata": {
        "id": "LNcGmUByHjQt"
      }
    },
    {
      "cell_type": "code",
      "source": [
        "import numpy as np\n",
        "import matplotlib.pyplot as plt"
      ],
      "metadata": {
        "id": "oemzhTYP2Noa"
      },
      "execution_count": 1,
      "outputs": []
    },
    {
      "cell_type": "code",
      "source": [
        "#Vamos a definir las variables\n",
        "\n",
        "#Precios de ejercicio\n",
        "Precio_A = 90\n",
        "Precio_B = 100\n",
        "Precio_C = 110\n",
        "Precio_D = 120\n",
        "\n",
        "#Primas\n",
        "Prima_A = 4\n",
        "Prima_B = 3\n",
        "Prima_C = 2\n",
        "Prima_D = 2\n",
        "\n",
        "#Cantidades de cada una de las opciones\n",
        "Num_A = 1\n",
        "Num_B = 1\n",
        "Num_C = 1\n",
        "Num_D = 1\n",
        "\n",
        "#Definimos el tipo de operación (compra o venta)\n",
        "Operacion = \"Venta\"\n",
        "\n",
        "#Activo Subyacente\n",
        "ActivoSub = 10\n",
        "S = [*range(Precio_A - ActivoSub, Precio_D + ActivoSub)]\n",
        "\n",
        "# Vectores para almacenar los valores de cada opción\n",
        "\n",
        "Valor_A = [0]*len(S)\n",
        "Valor_B = [0]*len(S)\n",
        "Valor_C = [0]*len(S)\n",
        "Valor_D = [0]*len(S)\n",
        "\n",
        "#Opción A\n",
        "for i in range(0, len(S)):\n",
        "  if S[i] < Precio_A:\n",
        "    Valor_A[i] = 0 - Prima_A\n",
        "  else:\n",
        "    Valor_A[i] = S[i] - Precio_A - Prima_A\n",
        "\n",
        "#Opción B\n",
        "for i in range(0, len(S)):\n",
        "  if S[i] < Precio_B:\n",
        "    Valor_B[i] = 0 - Prima_B\n",
        "  else:\n",
        "    Valor_B[i] = S[i] - Precio_B - Prima_B\n",
        "\n",
        "#Opción C\n",
        "for i in range(0, len(S)):\n",
        "  if S[i] < Precio_C:\n",
        "    Valor_C[i] = 0 - Prima_C\n",
        "  else:\n",
        "    Valor_C[i] = S[i] - Precio_C - Prima_C\n",
        "\n",
        "#Opción D\n",
        "for i in range(0, len(S)):\n",
        "  if S[i] < Precio_D:\n",
        "    Valor_D[i] = 0 - Prima_D\n",
        "  else:\n",
        "    Valor_D[i] = S[i] - Precio_D - Prima_D\n",
        "\n",
        "Valor_A = np.array(Valor_A)\n",
        "Valor_B = np.array(Valor_B)\n",
        "Valor_C = np.array(Valor_C)\n",
        "Valor_D = np.array(Valor_D)\n",
        "\n",
        "\n",
        "if Operacion == \"Venta\":\n",
        "  Valor_A = Valor_A * Num_A * -1\n",
        "  Valor_B = Valor_B * Num_B\n",
        "  Valor_C = Valor_C * Num_C\n",
        "  Valor_D = Valor_D * Num_D * -1\n",
        "\n",
        "else: \n",
        "  Valor_A = Valor_A * Num_A\n",
        "  Valor_B = Valor_B * Num_B * -1\n",
        "  Valor_C = Valor_C * Num_C * -1\n",
        "  Valor_D = Valor_D * Num_D\n",
        "\n",
        "\n",
        "Total = Valor_A + Valor_B + Valor_C + Valor_D \n",
        "print(Total)\n",
        "print(S)\n",
        "\n",
        "plt.plot(S, Total)\n",
        "plt.show()"
      ],
      "metadata": {
        "id": "ENcmAnNQHqqY",
        "outputId": "f42bfad6-a6f6-455f-bca9-e26c1ce78f5c",
        "colab": {
          "base_uri": "https://localhost:8080/",
          "height": 355
        }
      },
      "execution_count": 6,
      "outputs": [
        {
          "output_type": "stream",
          "name": "stdout",
          "text": [
            "[ 1  1  1  1  1  1  1  1  1  1  1  0 -1 -2 -3 -4 -5 -6 -7 -8 -9 -9 -9 -9\n",
            " -9 -9 -9 -9 -9 -9 -9 -8 -7 -6 -5 -4 -3 -2 -1  0  1  1  1  1  1  1  1  1\n",
            "  1  1]\n",
            "[80, 81, 82, 83, 84, 85, 86, 87, 88, 89, 90, 91, 92, 93, 94, 95, 96, 97, 98, 99, 100, 101, 102, 103, 104, 105, 106, 107, 108, 109, 110, 111, 112, 113, 114, 115, 116, 117, 118, 119, 120, 121, 122, 123, 124, 125, 126, 127, 128, 129]\n"
          ]
        },
        {
          "output_type": "display_data",
          "data": {
            "text/plain": [
              "<Figure size 432x288 with 1 Axes>"
            ],
            "image/png": "[encoded data removed]"
          },
          "metadata": {
            "needs_background": "light"
          }
        }
      ]
    }
  ]
}