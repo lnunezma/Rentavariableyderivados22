{
  "nbformat": 4,
  "nbformat_minor": 0,
  "metadata": {
    "colab": {
      "name": "Práctica_5.ipynb",
      "provenance": [],
      "authorship_tag": "ABX9TyPfvjfptZGSolgSpDCAIM7V",
      "include_colab_link": true
    },
    "kernelspec": {
      "name": "python3",
      "display_name": "Python 3"
    },
    "language_info": {
      "name": "python"
    }
  },
  "cells": [
    {
      "cell_type": "markdown",
      "metadata": {
        "id": "view-in-github",
        "colab_type": "text"
      },
      "source": [
        "<a href=\"https://colab.research.google.com/github/lnunezma/Rentavariableyderivados22/blob/main/Pr%C3%A1ctica_5.ipynb\" target=\"_parent\"><img src=\"https://colab.research.google.com/assets/colab-badge.svg\" alt=\"Open In Colab\"/></a>"
      ]
    },
    {
      "cell_type": "code",
      "execution_count": null,
      "metadata": {
        "id": "UwX1Xt1S4-hN"
      },
      "outputs": [],
      "source": [
        ""
      ]
    },
    {
      "cell_type": "markdown",
      "source": [
        "**Práctica 5 - Paridad PUT-CALL**"
      ],
      "metadata": {
        "id": "AWGdppGi5PaB"
      }
    },
    {
      "cell_type": "code",
      "source": [
        "import numpy\n",
        "import math\n",
        "import random\n",
        "\n",
        "#Variables\n",
        "S = 100     #precio actual\n",
        "E = 120     #Strike o precio de ejercicio\n",
        "P = 8       #precio en el mercado\n",
        "t = 1       #años hasta el vencimiento\n",
        "C_mercado =10   #precio en el mercado\n",
        "r = 10     #tasa de interes anual\n",
        "r_instantaneo = numpy.log(1+r)       #tasa de interes instanteneo\n",
        "\n",
        "\n",
        "#Ahora vamos a usar la formula de Paridad PUT-CALL \n",
        "r_instantaneo = numpy.log(1+r)  \n",
        "Strike_actualizado= E *(math.exp(-r*t))\n",
        "print (Strike_actualizado)\n",
        "C_teorico = S + P-Strike_actualizado\n",
        "print (C_teorico)\n",
        "\n",
        "#compramos el precio del ejercicio (Strike) con el precio teorico obtenido para comprobar si hay equilibrio en el mercado o no\n",
        "if E == C_teorico:\n",
        "   print(\"Mercado en equilibrio\")\n",
        "else:\n",
        "  if(E >= C_teorico):\n",
        "    print (\"Posibilidad de arbitraje\")\n",
        "  else:\n",
        "   if(E <= C_teorico):\n",
        "     print (\"Posibilidad de arbitraje\")\n",
        "\n",
        "#Cuanto seria el beneficio a obtener con este arbitraje?\n",
        "Beneficio = E - C_teorico\n",
        "print (Beneficio)\n"
      ],
      "metadata": {
        "colab": {
          "base_uri": "https://localhost:8080/"
        },
        "id": "ZRDqpVUb5WAl",
        "outputId": "b42945cd-6a8a-4f1c-8648-7f47599e616b"
      },
      "execution_count": 36,
      "outputs": [
        {
          "output_type": "stream",
          "name": "stdout",
          "text": [
            "0.005447991571498182\n",
            "107.9945520084285\n",
            "Posibilidad de arbitraje\n",
            "12.0054479915715\n"
          ]
        }
      ]
    },
    {
      "cell_type": "code",
      "source": [
        ""
      ],
      "metadata": {
        "id": "q4GXQs98-1Gz"
      },
      "execution_count": null,
      "outputs": []
    }
  ]
}