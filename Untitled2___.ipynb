{
  "nbformat": 4,
  "nbformat_minor": 0,
  "metadata": {
    "colab": {
      "name": "Untitled2.ipynb",
      "provenance": [],
      "authorship_tag": "ABX9TyNZySLPs9ELcgV0Ug7RUsjv",
      "include_colab_link": true
    },
    "kernelspec": {
      "name": "python3",
      "display_name": "Python 3"
    },
    "language_info": {
      "name": "python"
    }
  },
  "cells": [
    {
      "cell_type": "markdown",
      "metadata": {
        "id": "view-in-github",
        "colab_type": "text"
      },
      "source": [
        "<a href=\"https://colab.research.google.com/github/lnunezma/Rentavariableyderivados22/blob/main/Untitled2___.ipynb\" target=\"_parent\"><img src=\"https://colab.research.google.com/assets/colab-badge.svg\" alt=\"Open In Colab\"/></a>"
      ]
    },
    {
      "cell_type": "code",
      "execution_count": 1,
      "metadata": {
        "colab": {
          "base_uri": "https://localhost:8080/"
        },
        "id": "EjKGXOMrjxNN",
        "outputId": "81caf77a-18b9-47bd-92d0-034fb10e0a4b"
      },
      "outputs": [
        {
          "output_type": "stream",
          "name": "stdout",
          "text": [
            "Collecting numpy-financial\n",
            "  Downloading numpy_financial-1.0.0-py3-none-any.whl (14 kB)\n",
            "Requirement already satisfied: numpy>=1.15 in /usr/local/lib/python3.7/dist-packages (from numpy-financial) (1.21.5)\n",
            "Installing collected packages: numpy-financial\n",
            "Successfully installed numpy-financial-1.0.0\n"
          ]
        }
      ],
      "source": [
        "pip install numpy-financial\n"
      ]
    },
    {
      "cell_type": "code",
      "source": [
        "import numpy_financial as npf\n",
        "\n",
        "# DATOS DEL BONO\n",
        "nominal = 1000\n",
        "cupon = 0.1\n",
        "n = 5  # años\n",
        "r = 0.08\n",
        "\n",
        "# FLUJOS DE CAJA\n",
        "flujos = [0]\n",
        "for i in range(1, n+1):\n",
        "    if i < n:\n",
        "        flujos.append(cupon * nominal)\n",
        "    elif i == n:\n",
        "        flujos.append(cupon * nominal + nominal)\n",
        "print(\"Flujos de caja: \", flujos)\n",
        "\n",
        "# PRECIO DEL BONO\n",
        "precio = 0\n",
        "for i in range(1, n+1):\n",
        "    precio += flujos[i] / (1+r)**i\n",
        "print(\"Precio del bono:\", precio)\n",
        "bono = flujos[:]\n",
        "bono[0] = -precio\n",
        "\n",
        "# COMPROBACIÓN TIR = r\n",
        "tir = npf.irr(bono)\n",
        "print(f\"La TIR del bono es: {tir:.5%}\")  # Internal rate of return"
      ],
      "metadata": {
        "colab": {
          "base_uri": "https://localhost:8080/"
        },
        "id": "OudmJoH3kHaE",
        "outputId": "9df8a52b-6441-4e76-cae6-1208e34acc29"
      },
      "execution_count": 2,
      "outputs": [
        {
          "output_type": "stream",
          "name": "stdout",
          "text": [
            "Flujos de caja:  [0, 100.0, 100.0, 100.0, 100.0, 1100.0]\n",
            "Precio del bono: 1079.8542007415613\n",
            "La TIR del bono es: 8.00000%\n"
          ]
        }
      ]
    },
    {
      "cell_type": "markdown",
      "source": [
        "**CALCULAR EL PRECIO DE LA ETTI**\n",
        "\n",
        "NOMINAL 1000€\n",
        "CUPON 10%\n",
        "N = 5\n",
        "ETTI \n",
        " \n",
        "\n",
        "*   AÑO 1: 2%\n",
        "*   AÑO 2: 4%\n",
        "*   AÑO 3: 6%\n",
        "*   AÑO 4: 8%\n",
        "*   AÑO 5: 10%\n",
        "\n",
        "¿CALCULAR EL PRECIO DEL BONO Y SU TIR?\n",
        "\n"
      ],
      "metadata": {
        "id": "4bqR26HUlXJ2"
      }
    },
    {
      "cell_type": "code",
      "source": [
        "import numpy_financial as npf\n",
        "# DATOS\n",
        "Nominal = 1000\n",
        "Cupon = 0.1\n",
        "n = 5 \n",
        "r01 =0.02\n",
        "r02 =0.04\n",
        "r03 =0.06\n",
        "r04 =0.08\n",
        "r05 =0.10\n",
        "etti =[r01,r02,r03,r04,r05]\n",
        "\n",
        "#Los flujos\n",
        "flujos = [0]\n",
        "for i in range(1, n+1):\n",
        "    if i < n:\n",
        "        flujos.append(cupon * nominal)\n",
        "    elif i == n:\n",
        "        flujos.append(cupon * nominal + nominal)\n",
        "print(\"Flujos de caja: \", flujos)\n",
        "\n",
        "#ETTI\n",
        "precio = 0\n",
        "for i in range(1, n+1):\n",
        "    precio += flujos[i] / (1+etti[i-1])**i\n",
        "print(\"Precio del bono:\", precio)\n",
        "bono = flujos[:]\n",
        "bono[0] = -precio\n",
        "\n",
        "# CALCULAR LA TIR DEL BONO TIR = r\n",
        "tir = npf.irr(bono)\n",
        "print(f\"La TIR del bono es: {tir:.6%}\")  # Internal rate of return\n",
        "\n",
        "\n",
        "\n",
        "\n",
        "\n"
      ],
      "metadata": {
        "colab": {
          "base_uri": "https://localhost:8080/"
        },
        "id": "C_4fIXU7mVO4",
        "outputId": "f8170a66-eec0-4812-c89c-54d591b0ace0"
      },
      "execution_count": 6,
      "outputs": [
        {
          "output_type": "stream",
          "name": "stdout",
          "text": [
            "Flujos de caja:  [0, 100.0, 100.0, 100.0, 100.0, 1100.0]\n",
            "Precio del bono: 1030.9732059359958\n",
            "La TIR del bono es: 9.199575%\n"
          ]
        }
      ]
    },
    {
      "cell_type": "markdown",
      "source": [
        "CREACIÓN DE UN BONO SINTETICO CUPON CERO\n",
        "La ETTI esta formada por la TIR de bonos de cupon cero a los diferentes plazo\n",
        "\n"
      ],
      "metadata": {
        "id": "81nicdlUp6SG"
      }
    },
    {
      "cell_type": "code",
      "source": [
        "import numpy_financial as npf\n",
        "\n",
        "# DATOS BONO A\n",
        "nominalA = 10_000\n",
        "cuponA = 0.02\n",
        "n = 5 # años, para A y B\n",
        "# DATOS BONO B\n",
        "nominalB = 4_000\n",
        "cuponB = 0.25\n",
        "# ETTI\n",
        "etti =[.02,.04,.06,.08,.10]\n",
        "\n",
        "# FLUJOS DE CAJA DE LOS BONOS\n",
        "def flujos(nominal, cupon, n):\n",
        "    cf = [0]  # array con el cash flow\n",
        "    for i in range(1, n+1):\n",
        "        if i < n:\n",
        "            cf.append(cupon * nominal)\n",
        "        elif i == n:\n",
        "            cf.append(cupon * nominal + nominal)\n",
        "    return cf\n",
        "\n",
        "# Flujos de caja de los Bonos A y B\n",
        "flujosA = flujos(nominalA, cuponA, n)\n",
        "flujosB = flujos(nominalB, cuponB, n)\n",
        "\n",
        "# PRECIO DE UN BONO CON LA ETTI\n",
        "def precio_etti(flujos, etti):\n",
        "    precio = 0\n",
        "    for i in range(1, n+1):\n",
        "        precio += flujos[i] * (1+etti[i-1])**-i\n",
        "    return precio\n",
        "\n",
        "# Precios de los Bonos A y B\n",
        "precioA = precio_etti(flujosA, etti)\n",
        "precioB = precio_etti(flujosB, etti)\n",
        "print(f\"El precio del bono A es {precioA}\")\n",
        "print(f\"El precio del bono B es {precioB}\")\n",
        "# Flujos de caja de los bonos A y B\n",
        "bonoA = flujosA[:]\n",
        "bonoA[0] = -precioA\n",
        "bonoB = flujosB[:]\n",
        "bonoB[0] = -precioB\n",
        "\n",
        "# CREACIÓN DEL BONO SINTÉTICO C\n",
        "\n",
        "# m es el número de bonos que se han de comprar o vender de uno de los bonos\n",
        "m = max(cuponA*nominalA, cuponB*nominalB) / min(cuponB*nominalB, cuponA*nominalA)\n",
        "# con los datos de ejemplo m = 1000 / 200 = 5\n",
        "\n",
        "# Flujos de caja del bono C\n",
        "bonoC = [0]*(n+1)\n",
        "for i in range(0, n+1):\n",
        "    bonoC[i] = m * bonoA[i] - bonoB[i]\n",
        "print(f\"Flujos de caja del bono C: {bonoC}\")\n",
        "\n",
        "# Calcular la TIR de los bonos\n",
        "tirA = npf.irr(bonoA)\n",
        "tirB = npf.irr(bonoB)\n",
        "tirC = npf.irr(bonoC)\n",
        "print(f\"La TIR del bono A es: {tirA:.6%}\")\n",
        "print(f\"La TIR del bono B es: {tirB:.6%}\")\n",
        "print(f\"La TIR del bono C es: {tirC:.6%}\")"
      ],
      "metadata": {
        "colab": {
          "base_uri": "https://localhost:8080/"
        },
        "id": "RYyxIsJFqFt0",
        "outputId": "47aa205c-d103-4cfc-be25-9db116dc30e2"
      },
      "execution_count": 7,
      "outputs": [
        {
          "output_type": "stream",
          "name": "stdout",
          "text": [
            "El precio del bono A es 7029.316996345231\n",
            "El precio del bono B es 6584.2041210050265\n",
            "Flujos de caja del bono C: [-28562.38086072113, 0.0, 0.0, 0.0, 0.0, 46000.0]\n",
            "La TIR del bono A es: 9.795736%\n",
            "La TIR del bono B es: 8.573790%\n",
            "La TIR del bono C es: 10.000000%\n"
          ]
        }
      ]
    }
  ]
}