{
  "nbformat": 4,
  "nbformat_minor": 0,
  "metadata": {
    "colab": {
      "name": "derivados01.ipynb",
      "provenance": [],
      "include_colab_link": true
    },
    "kernelspec": {
      "name": "python3",
      "display_name": "Python 3"
    },
    "language_info": {
      "name": "python"
    }
  },
  "cells": [
    {
      "cell_type": "markdown",
      "metadata": {
        "id": "view-in-github",
        "colab_type": "text"
      },
      "source": [
        "<a href=\"https://colab.research.google.com/github/lnunezma/Rentavariableyderivados22/blob/main/derivados01.ipynb\" target=\"_parent\"><img src=\"https://colab.research.google.com/assets/colab-badge.svg\" alt=\"Open In Colab\"/></a>"
      ]
    },
    {
      "cell_type": "markdown",
      "source": [
        "# Programación en Python"
      ],
      "metadata": {
        "id": "-V3kb15V02sg"
      }
    },
    {
      "cell_type": "code",
      "execution_count": null,
      "metadata": {
        "colab": {
          "base_uri": "https://localhost:8080/"
        },
        "id": "fXjIz4tN0rdU",
        "outputId": "b6efac27-869c-43c6-b042-943a6caca63d"
      },
      "outputs": [
        {
          "output_type": "stream",
          "name": "stdout",
          "text": [
            "Bienvenidos al mundo de las Finanzas\n"
          ]
        }
      ],
      "source": [
        "print(\"Bienvenidos al mundo de las Finanzas\")"
      ]
    },
    {
      "cell_type": "markdown",
      "source": [
        "## VAN y TIR\n",
        "* VAN = NPV\n",
        "* TIR = IRR"
      ],
      "metadata": {
        "id": "2XO4D6iv7eB7"
      }
    },
    {
      "cell_type": "code",
      "source": [
        "pip install numpy-financial"
      ],
      "metadata": {
        "colab": {
          "base_uri": "https://localhost:8080/"
        },
        "id": "AQENw64P9oV5",
        "outputId": "91a5c416-b02a-47b7-93d9-85926c2aa619"
      },
      "execution_count": null,
      "outputs": [
        {
          "output_type": "stream",
          "name": "stdout",
          "text": [
            "Collecting numpy-financial\n",
            "  Downloading numpy_financial-1.0.0-py3-none-any.whl (14 kB)\n",
            "Requirement already satisfied: numpy>=1.15 in /usr/local/lib/python3.7/dist-packages (from numpy-financial) (1.21.5)\n",
            "Installing collected packages: numpy-financial\n",
            "Successfully installed numpy-financial-1.0.0\n"
          ]
        }
      ]
    },
    {
      "cell_type": "code",
      "source": [
        "import numpy_financial as npf\n",
        "\n",
        "cash_flows = [-600_000, 100_000, 150_000, 200_000, 250_000, 300_000]\n",
        "discount_rate = 0.1\n",
        "\n",
        "van = npf.npv(discount_rate, cash_flows)\n",
        "print(f\"Net Present Value ({discount_rate:.2%}) = {van:,.2f} €\")"
      ],
      "metadata": {
        "colab": {
          "base_uri": "https://localhost:8080/"
        },
        "id": "7Z0MGAhe_npY",
        "outputId": "f842edde-0f61-401f-e85e-6d62f39cb2b3"
      },
      "execution_count": null,
      "outputs": [
        {
          "output_type": "stream",
          "name": "stdout",
          "text": [
            "Net Present Value (10.00%) = 122,168.75 €\n"
          ]
        }
      ]
    },
    {
      "cell_type": "code",
      "source": [
        "x=10\n",
        "print(\"el valor de x es\", x)\n",
        "print(f\"el valor de x es [x] y su cuadrado es {x**2}\")"
      ],
      "metadata": {
        "id": "J9aq7YlThn31",
        "outputId": "7c90eaa7-8d35-4624-fd1b-231459d5b77e",
        "colab": {
          "base_uri": "https://localhost:8080/"
        }
      },
      "execution_count": null,
      "outputs": [
        {
          "output_type": "stream",
          "name": "stdout",
          "text": [
            "el valor de x es 10\n",
            "el valor de x es [x] y su cuadrado es 100\n"
          ]
        }
      ]
    },
    {
      "cell_type": "code",
      "source": [
        "tir = npf.irr(cash_flows)\n",
        "print(f\"Internal rate of return: {tir:.2%}\")"
      ],
      "metadata": {
        "colab": {
          "base_uri": "https://localhost:8080/"
        },
        "id": "J3Q-2rYw9c7i",
        "outputId": "aabee2f1-8151-4576-a3e1-c4e9242ff3e0"
      },
      "execution_count": null,
      "outputs": [
        {
          "output_type": "stream",
          "name": "stdout",
          "text": [
            "Internal rate of return: 16.40%\n"
          ]
        }
      ]
    },
    {
      "cell_type": "code",
      "source": [
        "initialInvestment = cash_flows[0]       # guardamos en una variable el desembolso inicial\n",
        "cash_flows[0] = 0                       # en la lista de cash flows hacemos cero el desembolso inicial\n",
        "van = initialInvestment + npf.npv(discount_rate, cash_flows)\n",
        "print(van)                              # obtenemos el van esperado, ahora sin formato"
      ],
      "metadata": {
        "colab": {
          "base_uri": "https://localhost:8080/"
        },
        "id": "3TUW8OI9MxDp",
        "outputId": "67ecb766-d870-40b0-ff5e-eef3d57fcda5"
      },
      "execution_count": null,
      "outputs": [
        {
          "output_type": "stream",
          "name": "stdout",
          "text": [
            "122168.75399718084\n"
          ]
        }
      ]
    },
    {
      "cell_type": "markdown",
      "source": [
        "### Programando el VAN\n",
        "* Valor Actual Neto\n",
        "* $A$ = Desembolso inicial\n",
        "* $Q_t$ = Flujos de caja desde $t=1$ hasta $t=n$\n",
        "* $k$ = tasa de descuento\n",
        "\n",
        "$$ \\mathrm{VAN} = -A + \\sum_{t=1}^n{\\frac{Q_t}{(1+k)^t}} $$"
      ],
      "metadata": {
        "id": "iQujYc0kWK9I"
      }
    },
    {
      "cell_type": "code",
      "source": [
        "def van(tasa, flujos): \n",
        "    total = 0 #incializamos la variable total (definición)\n",
        "    for i, flujo in enumerate(flujos):  \n",
        "        total += flujo / (1 + tasa)**i\n",
        "    return total\n",
        "\n",
        "tasa = 0.1\n",
        "flujos = [-600_000, 100_000, 150_000, 200_000, 250_000, 300_000]\n",
        "print(f\"VAN = {van(tasa, flujos):,.2f} €\")          #para invocar una formula con dos parametros, se meten dentro de parentesis separados por una coma."
      ],
      "metadata": {
        "colab": {
          "base_uri": "https://localhost:8080/"
        },
        "id": "97qYQEUjPInj",
        "outputId": "f291d619-1470-405e-98e3-d9db01197bf4"
      },
      "execution_count": null,
      "outputs": [
        {
          "output_type": "stream",
          "name": "stdout",
          "text": [
            "VAN = 122,168.75 €\n"
          ]
        }
      ]
    },
    {
      "cell_type": "code",
      "source": [
        "#Ejemplo de función de Python\n",
        "def saluda():\n",
        "    print(\"Buenas tardes\")\n",
        "\n",
        "saluda()\n",
        "\n",
        "def hola(nombre):\n",
        "        print(\"Hola\", nombre, \"Que tal?\")\n",
        "\n",
        "hola (\"Ana\")\n",
        "\n",
        "\n",
        "\n"
      ],
      "metadata": {
        "id": "G0RXg65byJ6e",
        "outputId": "e15186b3-bfa6-4d31-a0ea-a4460859debc",
        "colab": {
          "base_uri": "https://localhost:8080/"
        }
      },
      "execution_count": 4,
      "outputs": [
        {
          "output_type": "stream",
          "name": "stdout",
          "text": [
            "Buenas tardes\n",
            "Hola Ana Que tal?\n"
          ]
        }
      ]
    },
    {
      "cell_type": "code",
      "source": [
        "#función con return\n",
        "\n",
        "x=5\n",
        "\n",
        "def doblar(n):\n",
        "    return 2*n\n",
        "\n",
        "print (f\"el doble de {x} es {doblar(x)}\")"
      ],
      "metadata": {
        "id": "gH4d5jie2wFN",
        "outputId": "2be6e09a-036d-4ade-c158-44c61ba88c43",
        "colab": {
          "base_uri": "https://localhost:8080/"
        }
      },
      "execution_count": 7,
      "outputs": [
        {
          "output_type": "stream",
          "name": "stdout",
          "text": [
            "el doble de 5 es 10\n"
          ]
        }
      ]
    },
    {
      "cell_type": "code",
      "source": [
        "#el for es un bucle\n",
        "for i in range(1,6):  #aqui le estamos especificando que empieza en el 1, y el final es n-1\n",
        "    print(i)\n"
      ],
      "metadata": {
        "id": "R1JsnBXC7kk7",
        "outputId": "c2d02d30-9f87-4227-a709-e4cb8776be7f",
        "colab": {
          "base_uri": "https://localhost:8080/"
        }
      },
      "execution_count": 9,
      "outputs": [
        {
          "output_type": "stream",
          "name": "stdout",
          "text": [
            "1\n",
            "2\n",
            "3\n",
            "4\n",
            "5\n"
          ]
        }
      ]
    },
    {
      "cell_type": "code",
      "source": [
        "lista = [\"Madrid\", \"Londres\",\"Paris\", \"Roma\"]\n",
        "for ciudad in lista:       #método 1\n",
        "    print(ciudad)\n",
        "\n",
        "print()\n",
        "\n",
        "for i in range(len(lista)):      #método 2 (la longitud de la lista es 4, como el ultimo no entra, de 0-3)\n",
        "    print(i, lista[i])"
      ],
      "metadata": {
        "id": "N-Gc_I5V9dHJ",
        "outputId": "07bd0830-98e8-4c8b-b521-0f830b190078",
        "colab": {
          "base_uri": "https://localhost:8080/"
        }
      },
      "execution_count": 12,
      "outputs": [
        {
          "output_type": "stream",
          "name": "stdout",
          "text": [
            "Madrid\n",
            "Londres\n",
            "Paris\n",
            "Roma\n",
            "\n",
            "0 Madrid\n",
            "1 Londres\n",
            "2 Paris\n",
            "3 Roma\n"
          ]
        }
      ]
    },
    {
      "cell_type": "code",
      "source": [
        "#Explicación de Acumular\n",
        "\n",
        "total = 0\n",
        "for i in range(1,101):          #Acumulando los números o sumar los numero del 1 al 100\n",
        "    #total=total + i\n",
        "    total += i                  #esta linea y la anterior son iguales\n",
        "\n",
        "print(total)\n"
      ],
      "metadata": {
        "id": "5YsbGXZE_Sqw",
        "outputId": "1ea1e5f8-a1f2-4793-890f-52fa235fe0a1",
        "colab": {
          "base_uri": "https://localhost:8080/"
        }
      },
      "execution_count": 15,
      "outputs": [
        {
          "output_type": "stream",
          "name": "stdout",
          "text": [
            "5050\n"
          ]
        }
      ]
    },
    {
      "cell_type": "markdown",
      "source": [
        "## Función Pago (pmt)\n",
        "* npf.pmt(rate, nper, pv, fv, when = ‘end’)\n",
        "* fv es optativo, por defecto es 0\n",
        "* when es optativo, por defecto es 'end', pagos a final de periodo, pospagable\n",
        "* Calcular el pago mensual periódico necesario para amortizar un préstamo de 350.000 €, a 20 años, al 6% TIN (Tipo de Interés Nominal)\n",
        "* con Excel: =PAGO(6%/12;20*12;-350000)"
      ],
      "metadata": {
        "id": "LD16NjKFRYL9"
      }
    },
    {
      "cell_type": "code",
      "source": [
        "import numpy_financial as npf\n",
        "\n",
        "pago = npf.pmt(0.06/12, 20 * 12, 350_000)\n",
        "\n",
        "# Here fv = 0 ; Also Default value of fv = 0\n",
        "print(f\"Pago mensual: {-pago:,.2f} €\" )\n"
      ],
      "metadata": {
        "colab": {
          "base_uri": "https://localhost:8080/"
        },
        "id": "rnlAao1HP2IN",
        "outputId": "6a7b958e-3405-4735-c459-d03c1681a7ac"
      },
      "execution_count": null,
      "outputs": [
        {
          "output_type": "stream",
          "name": "stdout",
          "text": [
            "Pago mensual: 2,507.51 €\n"
          ]
        }
      ]
    }
  ]
}