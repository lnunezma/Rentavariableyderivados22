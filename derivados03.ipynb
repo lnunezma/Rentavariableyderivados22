{
  "nbformat": 4,
  "nbformat_minor": 0,
  "metadata": {
    "colab": {
      "name": "derivados03.ipynb",
      "provenance": [],
      "include_colab_link": true
    },
    "kernelspec": {
      "name": "python3",
      "display_name": "Python 3"
    },
    "language_info": {
      "name": "python"
    }
  },
  "cells": [
    {
      "cell_type": "markdown",
      "metadata": {
        "id": "view-in-github",
        "colab_type": "text"
      },
      "source": [
        "<a href=\"https://colab.research.google.com/github/lnunezma/Rentavariableyderivados22/blob/main/derivados03.ipynb\" target=\"_parent\"><img src=\"https://colab.research.google.com/assets/colab-badge.svg\" alt=\"Open In Colab\"/></a>"
      ]
    },
    {
      "cell_type": "markdown",
      "source": [
        "# Arbitraje\n",
        "Puede consultar el archivo de Excel: [arbitraje_con_bonos.xlsx](https://www.dropbox.com/s/vom9tvkf0upfl4b/arbitraje_con_bonos.xlsx?dl=1)\n",
        "\n",
        "\n",
        "## Ejemplo sencillo\n",
        "Puede ver la **Hoja1** del documento de Excel.\n",
        "\n",
        "Supongamos dos fruterías donde venden el mismo tipo de manzana.\n",
        "* Tienda A: precio 100 céntimos/Kg\n",
        "* Tienda B: precio 160 céntimos/Kg\n",
        "\n",
        "Operamos bajo el supuesto de que en cada tienda podemos comprar o vender las manzanas.\n",
        "\n",
        "Estrategia de arbitraje:\n",
        "* Compramos las manzanas en la tiena A, donde el precio es más barato\n",
        "* Vendemos las manzanas en la tienda B, donde el precio es más caro\n",
        "\n",
        "La estrategia consiste en comprar el activo infravalorado y vender el activo sobrevalorado.\n",
        "\n",
        "De esta forma estaríamos ganando la diferencia.\n",
        "\n",
        "## Introduciendo intereses\n",
        "Supongamos que el caso anterior de compraventa no se produce simultáneamente en el tiempo y que necesitamos financiar nuestra compra durante un tiempo.\n",
        "* Duración de la operación: 1 año\n",
        "* Tipo de interés: 10% anual\n",
        "* En t=0 pedimos un prestamo de 100 para comprar en la tienda A\n",
        "* En t=0 compramos las manzanas en la tienda A por 100\n",
        "* En t=1 vendemos las manzanas en la tienda B por 160\n",
        "* En t=1 devolvemos el préstamo 100*(1+0.1) = 110\n",
        "* Beneficio obtenido:\n",
        " - Método 1: 160-100-10 = 50 en t=1\n",
        " - Método 2: 100-100+160-110 = 50 en t=1\n"
      ],
      "metadata": {
        "id": "a0oZL-JNj_L0"
      }
    },
    {
      "cell_type": "code",
      "execution_count": null,
      "metadata": {
        "colab": {
          "base_uri": "https://localhost:8080/"
        },
        "id": "XeU3JN-pj-Hb",
        "outputId": "b052cb63-5895-4dd4-f17f-742bb5839406"
      },
      "outputs": [
        {
          "output_type": "stream",
          "name": "stdout",
          "text": [
            "Los flujos de caja de la operación en los diferentes años son: [0, 50.0]\n"
          ]
        }
      ],
      "source": [
        "precioA = 100\n",
        "precioB = 160\n",
        "n = 1          # duración en años\n",
        "Co = precioA   # Capital inicial prestado\n",
        "r = .1         # tipo de interés anual\n",
        "Cn = Co*(1+r)**n\n",
        "flujos_caja = [Co-precioA, round(precioB-Cn,8)]\n",
        "print(f\"Los flujos de caja de la operación en los diferentes años son: {flujos_caja}\")"
      ]
    },
    {
      "cell_type": "markdown",
      "source": [
        "# Arbitraje en el mercado de bonos\n",
        "Puede ver la **Hoja2** del documento de Excel.\n",
        "\n",
        "Disponemos de dos bonos que maduran a dos años, ambos de cupón explícito y con diferente duración de Macaulay (*duration*).\n",
        "* El bono A tiene un cupón anual de 10 € y nominal de 1.000 €.\n",
        "* El bono B tiene un cupón anual de 200 € y nominal de 1.000 €.\n",
        "* Conocemos la ETTI a un año (5%) y a dos años (20%).\n",
        "* Supongamos que en el mercado los inversores compran el bono A que es el de mayor TIR y desprecian el bono B. La presión de las compras hace que el precio del bono A suba, haciendo que su TIR baje hasta llegar a coincidir con la del bono B.\n",
        "\n",
        "Se pide:  \n",
        "* Calcular el precio de los bonos A y B\n",
        "* Calcular la TIR de los bonos A y B\n",
        "* Calcular la *duratin* de ambos bonos\n",
        "* Ante este mercado desequilibrado:\n",
        " - calcular el nuevo precio que tendrá el bono A\n",
        " - establecer la estrategia de arbitraje que permitiría obtener ventaja\n",
        " - determinar el beneficio obtenido por el arbitraje y en que instante se produciría.\n"
      ],
      "metadata": {
        "id": "BGvXV4TVL1cc"
      }
    },
    {
      "cell_type": "code",
      "source": [
        "pip install numpy-financial"
      ],
      "metadata": {
        "id": "8TVRhBqST-Ln",
        "outputId": "1bddae1b-3006-4172-fe31-043f757b7f0e",
        "colab": {
          "base_uri": "https://localhost:8080/"
        }
      },
      "execution_count": null,
      "outputs": [
        {
          "output_type": "stream",
          "name": "stdout",
          "text": [
            "Collecting numpy-financial\n",
            "  Downloading numpy_financial-1.0.0-py3-none-any.whl (14 kB)\n",
            "Requirement already satisfied: numpy>=1.15 in /usr/local/lib/python3.7/dist-packages (from numpy-financial) (1.21.5)\n",
            "Installing collected packages: numpy-financial\n",
            "Successfully installed numpy-financial-1.0.0\n"
          ]
        }
      ]
    },
    {
      "cell_type": "code",
      "source": [
        "import numpy_financial as npf\n",
        "import numpy as np             # la librería numpy nos permitirá trabajar con ndarrays\n",
        "\n",
        "# DATOS\n",
        "bonoA = [0, 10, 1010]\n",
        "bonoB = [0, 200, 1200]\n",
        "etti = [.05, .2]\n",
        "\n",
        "# PRECIO DE UN BONO CON LA ETTI\n",
        "def precio_etti(flujos, etti):\n",
        "    precio = 0\n",
        "    for i in range(1, len(bonoA)):\n",
        "        precio += flujos[i] * (1+etti[i-1])**-i\n",
        "    return precio\n",
        "\n",
        "# Precios de los Bonos A y B\n",
        "precioA = precio_etti(bonoA, etti)\n",
        "precioB = precio_etti(bonoB, etti)\n",
        "print(f\"El precio del bono A es {precioA}\")\n",
        "print(f\"El precio del bono B es {precioB}\")\n",
        "# Flujos de caja de los bonos A y B\n",
        "bonoA[0] = -precioA\n",
        "bonoB[0] = -precioB\n",
        "\n",
        "# Calcular la TIR de los bonos\n",
        "tirA = npf.irr(bonoA)\n",
        "tirB = npf.irr(bonoB)\n",
        "print(f\"La TIR del bono A es: {tirA:.4%}\")\n",
        "print(f\"La TIR del bono B es: {tirB:.4%}\")\n",
        "\n",
        "# Calcular la duración de Macaulay\n",
        "def duracion(bono):\n",
        "    tir =npf.irr(bono)\n",
        "    precio = 0\n",
        "    numerador = 0\n",
        "    for i in range(1, len(bonoA)):\n",
        "        precio += bono[i] * (1+tir)**-i\n",
        "        numerador += i * bono[i] * (1+tir)**-i\n",
        "    return numerador / precio\n",
        "\n",
        "print(f\"La duration del bono A es {duracion(bonoA)}\")\n",
        "print(f\"La duration del bono B es {duracion(bonoB)}\")\n",
        "\n",
        "# Nuevo precio del bono A en el mercado desequilibrado\n",
        "precioAprima = npf.npv(tirB, bonoA) + precioA # sumamos el antiguo precio de A ya que va en la posición [0] del array con signo negativo\n",
        "print(f\"El nuevo precio del bono A en el mercado desequilibrado es {precioAprima}\")\n",
        "bonoAprima =[-precioAprima, bonoA[1], bonoA[2]]\n",
        "\n",
        "# Bono C = B - 20A'\n",
        "# bonoC = bonoB - 20 * bonoAprima  # esto da error, necesitamos trabajar con ndarrays\n",
        "bonoB_arr = np.array(bonoB)\n",
        "bonoAprima_arr =np.array(bonoAprima)\n",
        "bonoC_arr = bonoB_arr - 20 * bonoAprima_arr\n",
        "print(f\"El bono C es {bonoC_arr}\")\n",
        "\n",
        "# Ajustamos con un préstamo\n",
        "prestamo = np.array([bonoC_arr[2] / (1+etti[1])**2, 0, -bonoC_arr[2]])\n",
        "print(f\"El préstamo es {prestamo}\")\n",
        "\n",
        "# Cartera Total\n",
        "total = bonoC_arr + prestamo\n",
        "print(f\"Cartera resultante del arbitraje {total}\")"
      ],
      "metadata": {
        "id": "N_5NXsIQTvc5",
        "outputId": "c886a2c5-24e6-4fa9-c523-6fd25be3369b",
        "colab": {
          "base_uri": "https://localhost:8080/"
        }
      },
      "execution_count": null,
      "outputs": [
        {
          "output_type": "stream",
          "name": "stdout",
          "text": [
            "El precio del bono A es 710.9126984126985\n",
            "El precio del bono B es 1023.809523809524\n",
            "La TIR del bono A es: 19.8989%\n",
            "La TIR del bono B es: 18.4704%\n",
            "La duration del bono A es 1.988268094271526\n",
            "La duration del bono B es 1.8351074725250018\n",
            "El nuevo precio del bono A en el mercado desequilibrado es 728.0583383461574\n",
            "El bono C es [ 13537.35724311      0.         -19000.        ]\n",
            "El préstamo es [-13194.44444444      0.          19000.        ]\n",
            "Cartera resultante del arbitraje [342.91279867   0.           0.        ]\n"
          ]
        }
      ]
    },
    {
      "cell_type": "markdown",
      "source": [
        "# Forward implícito\n",
        "* Puede consultar el blog [masterfinanciero.es](https://www.masterfinanciero.es/2010/10/forward-implicito.html)\n",
        "* Puede descargar el archivo de Excel [forward_implicito_01.xlsx](https://www.dropbox.com/s/7vbyj1cb9hxfqv9/forward_implicito_01.xlsx?dl=1)\n",
        "\n",
        "En el mercado están disponibles los siguientes bonos:\n",
        "* Bono A: Letra del Tesoro de duración un año y precio de adquisición 933 €\n",
        "* Bono B: Bono cupón explícito del 7% y duración 2 años que se adquiere con un descuento del 2% sobre el nominal.\n",
        "\n",
        "Se pide:\n",
        "* Determinar el tipo de interés forward implícito para el periodo que se inicia en t=1 y finaliza en t=2 años, $r_{12}$.\n",
        "* Calcular $r_{02}$\n",
        "* Calcular nuevamente $r_{12}$ utilizando para ello el valor de $r_{02}$ anteriormente calculado\n",
        "* Comprobar que el forward $r_{12}$ coincide por ambos métodos\n",
        "\n",
        "$$ (1+r_{02})^2 = (1+r_{01}) (1+r_{12}) $$"
      ],
      "metadata": {
        "id": "6vxj3IyOeimr"
      }
    },
    {
      "cell_type": "code",
      "source": [
        "import numpy_financial as npf\n",
        "import numpy as np\n",
        "\n",
        "##############       MÉTODO 1       ##############\n",
        "\n",
        "# DATOS   \n",
        "bonoA = np.array([-933, 1000, 0])\n",
        "bonoB = np.array([-98, 7, 107])  # ver los flujos de caja del archivo Excel\n",
        "\n",
        "# Bono C\n",
        "bonoC = np.array([0,0,0])        # inicializamos el ndarray\n",
        "bonoC = bonoA[0]*bonoB - bonoB[0]*bonoA\n",
        "print(f\"Bono C: {bonoC}\")\n",
        "\n",
        "# Forward r12\n",
        "r12 = npf.irr(bonoC)\n",
        "print(f\"MÉTODO 1: el forward r12 es {r12:.4%}\")\n",
        "\n",
        "##############       MÉTODO 2       ##############\n",
        "\n",
        "# Bono D\n",
        "bonoD = np.array([0,0,0])        # inicializamos el ndarray\n",
        "bonoD = bonoA[1]*bonoB - bonoB[1]*bonoA\n",
        "print(f\"Bono D: {bonoD}\")\n",
        "\n",
        "# ETTI a dos años r02\n",
        "r02 = npf.irr(bonoD)\n",
        "print(f\"La ETTI a dos años es r02 = {r02:.4%}\")\n",
        "\n",
        "# TIR del Bono A (r01)\n",
        "r01 = npf.irr(bonoA)\n",
        "print(f\"La TIR del bono A es r01 = {r01:.4%}\")\n",
        "\n",
        "##############      COMPROBACIÓN      ##############\n",
        "\n",
        "# Comprobación r12 = r12_bis\n",
        "r12_bis = (1+r02)**2 / (1+r01) -1\n",
        "print(f\"MÉTODO 2: el forward r12 es {r12_bis:.4%}\")\n",
        "print(f\"La diferencia de r12 por ambos métodos es {abs(r12 - r12_bis)}\")"
      ],
      "metadata": {
        "id": "DLa4O2hJfddt",
        "outputId": "4ef255ae-adcb-4d31-8936-ae6adaa0136b",
        "colab": {
          "base_uri": "https://localhost:8080/"
        }
      },
      "execution_count": null,
      "outputs": [
        {
          "output_type": "stream",
          "name": "stdout",
          "text": [
            "Bono C: [     0  91469 -99831]\n",
            "MÉTODO 1: el forward r12 es 9.1419%\n",
            "Bono D: [-91469      0 107000]\n",
            "La ETTI a dos años es r02 = 8.1571%\n",
            "La TIR del bono A es r01 = 7.1811%\n",
            "MÉTODO 2: el forward r12 es 9.1419%\n",
            "La diferencia de r12 por ambos métodos es 0.0\n"
          ]
        }
      ]
    },
    {
      "cell_type": "markdown",
      "source": [
        "# Cálculo de un tipo Forward $r_{23}$\n",
        "* Puede consultar el blog [Cálculo de un tipo Forward utilizando Solver](https://www.masterfinanciero.es/2010/10/calculo-de-un-tipo-forward-utilizando.html)\n",
        "* Puede descargar el archivo de Excel [forward_con_solver_01.xlsx](https://www.dropbox.com/s/6d9z41mimz5nyh0/forward_con_solver_01.xlsx?dl=1)\n",
        "\n",
        "En un mercado de renta fija cotizan los siguienes bonos:\n",
        "* Bono A: es un bono cupón cero a un año que se adquiere por 100 y se amortiza por 110\n",
        "* Bono B: es un bono cupón cero a dos años con TIR del 9% y precio de adquisición de 500 €\n",
        "* Bono C: es un bono cupón cero a tres años con TIR del 8% y nominal de 1.000 €  \n",
        "\n",
        "Se pide:\n",
        "* Calcular el tipo de interés forward implícito en el mercado: r23"
      ],
      "metadata": {
        "id": "cqz3rt3u5zYG"
      }
    },
    {
      "cell_type": "code",
      "source": [
        "import numpy_financial as npf\n",
        "import numpy as np\n",
        "\n",
        "# DATOS   \n",
        "bonoA = np.array([-100, 110, 0, 0])\n",
        "bonoB = np.array([-500, 0, 500*1.09**2, 0])  # la TIR del bono B es del 9%\n",
        "bonoC = np.array([-1000/1.08**3, 0, 0, 1000])\n",
        "\n",
        "print(f\"Bono A: {bonoA}\")\n",
        "print(f\"Bono B: {bonoB}\")\n",
        "print(f\"Bono C: {bonoC}\")\n",
        "\n",
        "##############       MÉTODO 1       ##############\n",
        "\n",
        "bonoD = np.ndarray([0,0,0,0])\n",
        "bonoD = -bonoC[0] * bonoB + bonoB[0] * bonoC\n",
        "print(f\"Bono D: {bonoD}\")\n",
        "tirD = npf.irr(bonoD)\n",
        "print(f\"Método 1: el forward r23 es {tirD:.5%}\")\n",
        "\n",
        "##############       MÉTODO 2       ##############\n",
        "r23 = (1+0.08)**3 / (1+0.09)**2 -1\n",
        "print(f\"Método 2: el forward r23 es {r23:.5%}\")"
      ],
      "metadata": {
        "id": "7ri_6-1l65Az",
        "outputId": "b45cc217-219f-4544-eede-f3b315fe57a1",
        "colab": {
          "base_uri": "https://localhost:8080/"
        }
      },
      "execution_count": null,
      "outputs": [
        {
          "output_type": "stream",
          "name": "stdout",
          "text": [
            "Bono A: [-100  110    0    0]\n",
            "Bono B: [-500.      0.    594.05    0.  ]\n",
            "Bono C: [-793.83224102    0.            0.         1000.        ]\n",
            "Bono D: [      0.               0.          471576.04277803 -500000.        ]\n",
            "Método 1: el forward r23 es 6.02744%\n",
            "Método 2: el forward r23 es 6.02744%\n"
          ]
        }
      ]
    }
  ]
}